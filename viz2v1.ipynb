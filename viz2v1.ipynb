{
 "cells": [
  {
   "cell_type": "code",
   "execution_count": 1,
   "metadata": {},
   "outputs": [],
   "source": [
    "import numpy as np\n",
    "import pandas as pd\n",
    "import matplotlib.pyplot as plt"
   ]
  },
  {
   "cell_type": "code",
   "execution_count": 2,
   "metadata": {},
   "outputs": [
    {
     "data": {
      "text/html": [
       "<div>\n",
       "<style scoped>\n",
       "    .dataframe tbody tr th:only-of-type {\n",
       "        vertical-align: middle;\n",
       "    }\n",
       "\n",
       "    .dataframe tbody tr th {\n",
       "        vertical-align: top;\n",
       "    }\n",
       "\n",
       "    .dataframe thead th {\n",
       "        text-align: right;\n",
       "    }\n",
       "</style>\n",
       "<table border=\"1\" class=\"dataframe\">\n",
       "  <thead>\n",
       "    <tr style=\"text-align: right;\">\n",
       "      <th></th>\n",
       "      <th>client_id</th>\n",
       "      <th>birth_dt</th>\n",
       "      <th>reg_dttm</th>\n",
       "      <th>purchase_id</th>\n",
       "      <th>purchase_dt</th>\n",
       "      <th>purchase_amt</th>\n",
       "      <th>age</th>\n",
       "    </tr>\n",
       "  </thead>\n",
       "  <tbody>\n",
       "    <tr>\n",
       "      <th>0</th>\n",
       "      <td>820519</td>\n",
       "      <td>1990</td>\n",
       "      <td>2019-01</td>\n",
       "      <td>NaN</td>\n",
       "      <td>NaT</td>\n",
       "      <td>NaN</td>\n",
       "      <td>29</td>\n",
       "    </tr>\n",
       "    <tr>\n",
       "      <th>1</th>\n",
       "      <td>820521</td>\n",
       "      <td>1970</td>\n",
       "      <td>2019-01</td>\n",
       "      <td>NaN</td>\n",
       "      <td>NaT</td>\n",
       "      <td>NaN</td>\n",
       "      <td>49</td>\n",
       "    </tr>\n",
       "    <tr>\n",
       "      <th>2</th>\n",
       "      <td>820523</td>\n",
       "      <td>1991</td>\n",
       "      <td>2019-01</td>\n",
       "      <td>1.204926e+09</td>\n",
       "      <td>2019-02-12</td>\n",
       "      <td>500.0</td>\n",
       "      <td>28</td>\n",
       "    </tr>\n",
       "    <tr>\n",
       "      <th>3</th>\n",
       "      <td>820526</td>\n",
       "      <td>1985</td>\n",
       "      <td>2019-01</td>\n",
       "      <td>NaN</td>\n",
       "      <td>NaT</td>\n",
       "      <td>NaN</td>\n",
       "      <td>34</td>\n",
       "    </tr>\n",
       "    <tr>\n",
       "      <th>4</th>\n",
       "      <td>820544</td>\n",
       "      <td>1991</td>\n",
       "      <td>2019-01</td>\n",
       "      <td>NaN</td>\n",
       "      <td>NaT</td>\n",
       "      <td>NaN</td>\n",
       "      <td>28</td>\n",
       "    </tr>\n",
       "    <tr>\n",
       "      <th>5</th>\n",
       "      <td>820552</td>\n",
       "      <td>1999</td>\n",
       "      <td>2019-01</td>\n",
       "      <td>NaN</td>\n",
       "      <td>NaT</td>\n",
       "      <td>NaN</td>\n",
       "      <td>20</td>\n",
       "    </tr>\n",
       "    <tr>\n",
       "      <th>6</th>\n",
       "      <td>820561</td>\n",
       "      <td>1993</td>\n",
       "      <td>2019-01</td>\n",
       "      <td>1.205778e+09</td>\n",
       "      <td>2019-02-13</td>\n",
       "      <td>500.0</td>\n",
       "      <td>26</td>\n",
       "    </tr>\n",
       "    <tr>\n",
       "      <th>7</th>\n",
       "      <td>820562</td>\n",
       "      <td>1981</td>\n",
       "      <td>2019-01</td>\n",
       "      <td>NaN</td>\n",
       "      <td>NaT</td>\n",
       "      <td>NaN</td>\n",
       "      <td>38</td>\n",
       "    </tr>\n",
       "    <tr>\n",
       "      <th>8</th>\n",
       "      <td>820588</td>\n",
       "      <td>1984</td>\n",
       "      <td>2019-01</td>\n",
       "      <td>NaN</td>\n",
       "      <td>NaT</td>\n",
       "      <td>NaN</td>\n",
       "      <td>35</td>\n",
       "    </tr>\n",
       "    <tr>\n",
       "      <th>9</th>\n",
       "      <td>820598</td>\n",
       "      <td>1980</td>\n",
       "      <td>2019-01</td>\n",
       "      <td>NaN</td>\n",
       "      <td>NaT</td>\n",
       "      <td>NaN</td>\n",
       "      <td>39</td>\n",
       "    </tr>\n",
       "  </tbody>\n",
       "</table>\n",
       "</div>"
      ],
      "text/plain": [
       "   client_id birth_dt reg_dttm   purchase_id purchase_dt  purchase_amt  age\n",
       "0     820519     1990  2019-01           NaN         NaT           NaN   29\n",
       "1     820521     1970  2019-01           NaN         NaT           NaN   49\n",
       "2     820523     1991  2019-01  1.204926e+09  2019-02-12         500.0   28\n",
       "3     820526     1985  2019-01           NaN         NaT           NaN   34\n",
       "4     820544     1991  2019-01           NaN         NaT           NaN   28\n",
       "5     820552     1999  2019-01           NaN         NaT           NaN   20\n",
       "6     820561     1993  2019-01  1.205778e+09  2019-02-13         500.0   26\n",
       "7     820562     1981  2019-01           NaN         NaT           NaN   38\n",
       "8     820588     1984  2019-01           NaN         NaT           NaN   35\n",
       "9     820598     1980  2019-01           NaN         NaT           NaN   39"
      ]
     },
     "execution_count": 2,
     "metadata": {},
     "output_type": "execute_result"
    }
   ],
   "source": [
    "df = pd.read_excel('purchase_table.xls')\n",
    "df['reg_dttm'] = df['reg_dttm'].dt.strftime('%Y-%m')\n",
    "df['birth_dt'] = df['birth_dt'].dt.strftime('%Y')\n",
    "df['age'] = 2019 - df['birth_dt'].astype(int)\n",
    "df.head(10)"
   ]
  },
  {
   "cell_type": "code",
   "execution_count": 3,
   "metadata": {},
   "outputs": [
    {
     "data": {
      "text/plain": [
       "reg_dttm    2019-01\n",
       "dtype: object"
      ]
     },
     "execution_count": 3,
     "metadata": {},
     "output_type": "execute_result"
    }
   ],
   "source": [
    "df[['reg_dttm']].min()"
   ]
  },
  {
   "cell_type": "code",
   "execution_count": 4,
   "metadata": {},
   "outputs": [
    {
     "data": {
      "text/plain": [
       "reg_dttm    2019-04\n",
       "dtype: object"
      ]
     },
     "execution_count": 4,
     "metadata": {},
     "output_type": "execute_result"
    }
   ],
   "source": [
    "df[['reg_dttm']].max()"
   ]
  },
  {
   "cell_type": "code",
   "execution_count": 5,
   "metadata": {},
   "outputs": [
    {
     "name": "stdout",
     "output_type": "stream",
     "text": [
      "   client_id birth_dt reg_dttm   purchase_id purchase_dt  purchase_amt  age\n",
      "0     820519     1990  2019-01           NaN         NaT           NaN   29\n",
      "1     820521     1970  2019-01           NaN         NaT           NaN   49\n",
      "2     820523     1991  2019-01  1.204926e+09  2019-02-12         500.0   28\n",
      "3     820526     1985  2019-01           NaN         NaT           NaN   34\n",
      "4     820544     1991  2019-01           NaN         NaT           NaN   28\n",
      "5     820552     1999  2019-01           NaN         NaT           NaN   20\n",
      "6     820561     1993  2019-01  1.205778e+09  2019-02-13         500.0   26\n",
      "7     820562     1981  2019-01           NaN         NaT           NaN   38\n",
      "8     820588     1984  2019-01           NaN         NaT           NaN   35\n",
      "9     820598     1980  2019-01           NaN         NaT           NaN   39\n",
      "reg_dttm    2019-01\n",
      "dtype: object\n",
      "reg_dttm    2019-01\n",
      "dtype: object\n"
     ]
    }
   ],
   "source": [
    "df_jan = df[df.reg_dttm == '2019-01']\n",
    "print(df_jan.head(10))\n",
    "print(df_jan[['reg_dttm']].min())\n",
    "print(df_jan[['reg_dttm']].max())"
   ]
  },
  {
   "cell_type": "code",
   "execution_count": 6,
   "metadata": {},
   "outputs": [
    {
     "data": {
      "text/html": [
       "<div>\n",
       "<style scoped>\n",
       "    .dataframe tbody tr th:only-of-type {\n",
       "        vertical-align: middle;\n",
       "    }\n",
       "\n",
       "    .dataframe tbody tr th {\n",
       "        vertical-align: top;\n",
       "    }\n",
       "\n",
       "    .dataframe thead th {\n",
       "        text-align: right;\n",
       "    }\n",
       "</style>\n",
       "<table border=\"1\" class=\"dataframe\">\n",
       "  <thead>\n",
       "    <tr style=\"text-align: right;\">\n",
       "      <th></th>\n",
       "      <th>Возраст</th>\n",
       "      <th>Число клиентов янв</th>\n",
       "    </tr>\n",
       "  </thead>\n",
       "  <tbody>\n",
       "    <tr>\n",
       "      <th>0</th>\n",
       "      <td>18-24</td>\n",
       "      <td>206</td>\n",
       "    </tr>\n",
       "    <tr>\n",
       "      <th>1</th>\n",
       "      <td>25-34</td>\n",
       "      <td>214</td>\n",
       "    </tr>\n",
       "    <tr>\n",
       "      <th>2</th>\n",
       "      <td>35-44</td>\n",
       "      <td>106</td>\n",
       "    </tr>\n",
       "    <tr>\n",
       "      <th>3</th>\n",
       "      <td>45-54</td>\n",
       "      <td>50</td>\n",
       "    </tr>\n",
       "    <tr>\n",
       "      <th>4</th>\n",
       "      <td>55+</td>\n",
       "      <td>25</td>\n",
       "    </tr>\n",
       "  </tbody>\n",
       "</table>\n",
       "</div>"
      ],
      "text/plain": [
       "  Возраст  Число клиентов янв\n",
       "0   18-24                 206\n",
       "1   25-34                 214\n",
       "2   35-44                 106\n",
       "3   45-54                  50\n",
       "4     55+                  25"
      ]
     },
     "execution_count": 6,
     "metadata": {},
     "output_type": "execute_result"
    }
   ],
   "source": [
    "df1_jan = df_jan.groupby(['client_id','age'], as_index=False)[['reg_dttm']].count()\n",
    "df2_jan = df1_jan.groupby(['age'], as_index=False)[['client_id']].count()\n",
    "df2_jan.rename(columns={'client_id': 'count_jan'}, inplace=True)\n",
    "\n",
    "list_age = ['18-24', '25-34', '35-44', '45-54', '55+']\n",
    "list_count_jan = []\n",
    "list_count_jan.append(df2_jan[(df2_jan.age >= 18)&(df2_jan.age <= 24)]['count_jan'].sum())\n",
    "list_count_jan.append(df2_jan[(df2_jan.age >= 25)&(df2_jan.age <= 34)]['count_jan'].sum())\n",
    "list_count_jan.append(df2_jan[(df2_jan.age >= 35)&(df2_jan.age <= 44)]['count_jan'].sum())\n",
    "list_count_jan.append(df2_jan[(df2_jan.age >= 45)&(df2_jan.age <= 54)]['count_jan'].sum())\n",
    "list_count_jan.append(df2_jan[(df2_jan.age >= 55)]['count_jan'].sum())\n",
    "data = pd.DataFrame({'Возраст': list_age, 'Число клиентов янв': list_count_jan})\n",
    "data"
   ]
  },
  {
   "cell_type": "code",
   "execution_count": 7,
   "metadata": {},
   "outputs": [
    {
     "name": "stdout",
     "output_type": "stream",
     "text": [
      "   client_id birth_dt reg_dttm   purchase_id purchase_dt  purchase_amt  age\n",
      "0     820519     1990  2019-01           NaN         NaT           NaN   29\n",
      "1     820521     1970  2019-01           NaN         NaT           NaN   49\n",
      "2     820523     1991  2019-01  1.204926e+09  2019-02-12         500.0   28\n",
      "3     820526     1985  2019-01           NaN         NaT           NaN   34\n",
      "4     820544     1991  2019-01           NaN         NaT           NaN   28\n",
      "5     820552     1999  2019-01           NaN         NaT           NaN   20\n",
      "6     820561     1993  2019-01  1.205778e+09  2019-02-13         500.0   26\n",
      "7     820562     1981  2019-01           NaN         NaT           NaN   38\n",
      "8     820588     1984  2019-01           NaN         NaT           NaN   35\n",
      "9     820598     1980  2019-01           NaN         NaT           NaN   39\n",
      "reg_dttm    2019-01\n",
      "dtype: object\n",
      "reg_dttm    2019-02\n",
      "dtype: object\n"
     ]
    }
   ],
   "source": [
    "df_feb = df[df.reg_dttm <= '2019-02']\n",
    "print(df_feb.head(10))\n",
    "print(df_feb[['reg_dttm']].min())\n",
    "print(df_feb[['reg_dttm']].max())"
   ]
  },
  {
   "cell_type": "code",
   "execution_count": 8,
   "metadata": {},
   "outputs": [
    {
     "data": {
      "text/html": [
       "<div>\n",
       "<style scoped>\n",
       "    .dataframe tbody tr th:only-of-type {\n",
       "        vertical-align: middle;\n",
       "    }\n",
       "\n",
       "    .dataframe tbody tr th {\n",
       "        vertical-align: top;\n",
       "    }\n",
       "\n",
       "    .dataframe thead th {\n",
       "        text-align: right;\n",
       "    }\n",
       "</style>\n",
       "<table border=\"1\" class=\"dataframe\">\n",
       "  <thead>\n",
       "    <tr style=\"text-align: right;\">\n",
       "      <th></th>\n",
       "      <th>Возраст</th>\n",
       "      <th>Число клиентов янв</th>\n",
       "      <th>Число клиентов фев</th>\n",
       "    </tr>\n",
       "  </thead>\n",
       "  <tbody>\n",
       "    <tr>\n",
       "      <th>0</th>\n",
       "      <td>18-24</td>\n",
       "      <td>206</td>\n",
       "      <td>572</td>\n",
       "    </tr>\n",
       "    <tr>\n",
       "      <th>1</th>\n",
       "      <td>25-34</td>\n",
       "      <td>214</td>\n",
       "      <td>446</td>\n",
       "    </tr>\n",
       "    <tr>\n",
       "      <th>2</th>\n",
       "      <td>35-44</td>\n",
       "      <td>106</td>\n",
       "      <td>227</td>\n",
       "    </tr>\n",
       "    <tr>\n",
       "      <th>3</th>\n",
       "      <td>45-54</td>\n",
       "      <td>50</td>\n",
       "      <td>126</td>\n",
       "    </tr>\n",
       "    <tr>\n",
       "      <th>4</th>\n",
       "      <td>55+</td>\n",
       "      <td>25</td>\n",
       "      <td>50</td>\n",
       "    </tr>\n",
       "  </tbody>\n",
       "</table>\n",
       "</div>"
      ],
      "text/plain": [
       "  Возраст  Число клиентов янв  Число клиентов фев\n",
       "0   18-24                 206                 572\n",
       "1   25-34                 214                 446\n",
       "2   35-44                 106                 227\n",
       "3   45-54                  50                 126\n",
       "4     55+                  25                  50"
      ]
     },
     "execution_count": 8,
     "metadata": {},
     "output_type": "execute_result"
    }
   ],
   "source": [
    "df1_feb = df_feb.groupby(['client_id','age'], as_index=False)[['reg_dttm']].count()\n",
    "df2_feb = df1_feb.groupby(['age'], as_index=False)[['client_id']].count()\n",
    "df2_feb.rename(columns={'client_id': 'count_feb'}, inplace=True)\n",
    "\n",
    "list_age = ['18-24', '25-34', '35-44', '45-54', '55+']\n",
    "list_count_feb = []\n",
    "list_count_feb.append(df2_feb[(df2_feb.age >= 18)&(df2_feb.age <= 24)]['count_feb'].sum())\n",
    "list_count_feb.append(df2_feb[(df2_feb.age >= 25)&(df2_feb.age <= 34)]['count_feb'].sum())\n",
    "list_count_feb.append(df2_feb[(df2_feb.age >= 35)&(df2_feb.age <= 44)]['count_feb'].sum())\n",
    "list_count_feb.append(df2_feb[(df2_feb.age >= 45)&(df2_feb.age <= 54)]['count_feb'].sum())\n",
    "list_count_feb.append(df2_feb[(df2_feb.age >= 55)]['count_feb'].sum())\n",
    "data['Число клиентов фев'] = list_count_feb\n",
    "#data_feb = pd.DataFrame({'Возраст': list_age, 'Число клиентов': list_count_feb})\n",
    "#data_feb\n",
    "data"
   ]
  },
  {
   "cell_type": "code",
   "execution_count": 9,
   "metadata": {},
   "outputs": [
    {
     "name": "stdout",
     "output_type": "stream",
     "text": [
      "   client_id birth_dt reg_dttm   purchase_id purchase_dt  purchase_amt  age\n",
      "0     820519     1990  2019-01           NaN         NaT           NaN   29\n",
      "1     820521     1970  2019-01           NaN         NaT           NaN   49\n",
      "2     820523     1991  2019-01  1.204926e+09  2019-02-12         500.0   28\n",
      "3     820526     1985  2019-01           NaN         NaT           NaN   34\n",
      "4     820544     1991  2019-01           NaN         NaT           NaN   28\n",
      "5     820552     1999  2019-01           NaN         NaT           NaN   20\n",
      "6     820561     1993  2019-01  1.205778e+09  2019-02-13         500.0   26\n",
      "7     820562     1981  2019-01           NaN         NaT           NaN   38\n",
      "8     820588     1984  2019-01           NaN         NaT           NaN   35\n",
      "9     820598     1980  2019-01           NaN         NaT           NaN   39\n",
      "reg_dttm    2019-01\n",
      "dtype: object\n",
      "reg_dttm    2019-03\n",
      "dtype: object\n"
     ]
    }
   ],
   "source": [
    "df_mar = df[df.reg_dttm <= '2019-03']\n",
    "print(df_mar.head(10))\n",
    "print(df_mar[['reg_dttm']].min())\n",
    "print(df_mar[['reg_dttm']].max())"
   ]
  },
  {
   "cell_type": "code",
   "execution_count": 10,
   "metadata": {},
   "outputs": [
    {
     "data": {
      "text/html": [
       "<div>\n",
       "<style scoped>\n",
       "    .dataframe tbody tr th:only-of-type {\n",
       "        vertical-align: middle;\n",
       "    }\n",
       "\n",
       "    .dataframe tbody tr th {\n",
       "        vertical-align: top;\n",
       "    }\n",
       "\n",
       "    .dataframe thead th {\n",
       "        text-align: right;\n",
       "    }\n",
       "</style>\n",
       "<table border=\"1\" class=\"dataframe\">\n",
       "  <thead>\n",
       "    <tr style=\"text-align: right;\">\n",
       "      <th></th>\n",
       "      <th>Возраст</th>\n",
       "      <th>Число клиентов янв</th>\n",
       "      <th>Число клиентов фев</th>\n",
       "      <th>Число клиентов мар</th>\n",
       "    </tr>\n",
       "  </thead>\n",
       "  <tbody>\n",
       "    <tr>\n",
       "      <th>0</th>\n",
       "      <td>18-24</td>\n",
       "      <td>206</td>\n",
       "      <td>572</td>\n",
       "      <td>877</td>\n",
       "    </tr>\n",
       "    <tr>\n",
       "      <th>1</th>\n",
       "      <td>25-34</td>\n",
       "      <td>214</td>\n",
       "      <td>446</td>\n",
       "      <td>643</td>\n",
       "    </tr>\n",
       "    <tr>\n",
       "      <th>2</th>\n",
       "      <td>35-44</td>\n",
       "      <td>106</td>\n",
       "      <td>227</td>\n",
       "      <td>302</td>\n",
       "    </tr>\n",
       "    <tr>\n",
       "      <th>3</th>\n",
       "      <td>45-54</td>\n",
       "      <td>50</td>\n",
       "      <td>126</td>\n",
       "      <td>160</td>\n",
       "    </tr>\n",
       "    <tr>\n",
       "      <th>4</th>\n",
       "      <td>55+</td>\n",
       "      <td>25</td>\n",
       "      <td>50</td>\n",
       "      <td>66</td>\n",
       "    </tr>\n",
       "  </tbody>\n",
       "</table>\n",
       "</div>"
      ],
      "text/plain": [
       "  Возраст  Число клиентов янв  Число клиентов фев  Число клиентов мар\n",
       "0   18-24                 206                 572                 877\n",
       "1   25-34                 214                 446                 643\n",
       "2   35-44                 106                 227                 302\n",
       "3   45-54                  50                 126                 160\n",
       "4     55+                  25                  50                  66"
      ]
     },
     "execution_count": 10,
     "metadata": {},
     "output_type": "execute_result"
    }
   ],
   "source": [
    "df1_mar = df_mar.groupby(['client_id','age'], as_index=False)[['reg_dttm']].count()\n",
    "df2_mar = df1_mar.groupby(['age'], as_index=False)[['client_id']].count()\n",
    "df2_mar.rename(columns={'client_id': 'count_mar'}, inplace=True)\n",
    "\n",
    "list_age = ['18-24', '25-34', '35-44', '45-54', '55+']\n",
    "list_count_mar = []\n",
    "list_count_mar.append(df2_mar[(df2_mar.age >= 18)&(df2_mar.age <= 24)]['count_mar'].sum())\n",
    "list_count_mar.append(df2_mar[(df2_mar.age >= 25)&(df2_mar.age <= 34)]['count_mar'].sum())\n",
    "list_count_mar.append(df2_mar[(df2_mar.age >= 35)&(df2_mar.age <= 44)]['count_mar'].sum())\n",
    "list_count_mar.append(df2_mar[(df2_mar.age >= 45)&(df2_mar.age <= 54)]['count_mar'].sum())\n",
    "list_count_mar.append(df2_mar[(df2_mar.age >= 55)]['count_mar'].sum())\n",
    "data['Число клиентов мар'] = list_count_mar\n",
    "#data_mar = pd.DataFrame({'Возраст': list_age, 'Число клиентов': list_count_mar})\n",
    "#data_mar\n",
    "data"
   ]
  },
  {
   "cell_type": "code",
   "execution_count": 11,
   "metadata": {},
   "outputs": [
    {
     "data": {
      "text/plain": [
       "\"\\ndf_apr = df[df.reg_dttm == '2019-04']\\nprint(df_apr.head(10))\\nprint(df_apr[['reg_dttm']].min())\\nprint(df_apr[['reg_dttm']].max())\\n\""
      ]
     },
     "execution_count": 11,
     "metadata": {},
     "output_type": "execute_result"
    }
   ],
   "source": [
    "'''\n",
    "df_apr = df[df.reg_dttm == '2019-04']\n",
    "print(df_apr.head(10))\n",
    "print(df_apr[['reg_dttm']].min())\n",
    "print(df_apr[['reg_dttm']].max())\n",
    "'''"
   ]
  },
  {
   "cell_type": "code",
   "execution_count": 12,
   "metadata": {},
   "outputs": [
    {
     "data": {
      "text/plain": [
       "\"\\ndf1_apr = df_apr.groupby(['client_id','age'], as_index=False)[['reg_dttm']].count()\\ndf2_apr = df1_apr.groupby(['age'], as_index=False)[['client_id']].count()\\ndf2_apr.rename(columns={'client_id': 'count_apr'}, inplace=True)\\n\\nlist_age = ['18-24', '25-34', '35-44', '45-54', '55+']\\nlist_count_apr = []\\nlist_count_apr.append(df2_apr[(df2_apr.age >= 18)&(df2_apr.age <= 24)]['count_apr'].sum())\\nlist_count_apr.append(df2_apr[(df2_apr.age >= 25)&(df2_apr.age <= 34)]['count_apr'].sum())\\nlist_count_apr.append(df2_apr[(df2_apr.age >= 35)&(df2_apr.age <= 44)]['count_apr'].sum())\\nlist_count_apr.append(df2_apr[(df2_apr.age >= 45)&(df2_apr.age <= 54)]['count_apr'].sum())\\nlist_count_apr.append(df2_apr[(df2_apr.age >= 55)]['count_apr'].sum())\\ndata_apr = pd.DataFrame({'Возраст': list_age, 'Число клиентов': list_count_apr})\\ndata_apr\\n\""
      ]
     },
     "execution_count": 12,
     "metadata": {},
     "output_type": "execute_result"
    }
   ],
   "source": [
    "\"\"\"\n",
    "df1_apr = df_apr.groupby(['client_id','age'], as_index=False)[['reg_dttm']].count()\n",
    "df2_apr = df1_apr.groupby(['age'], as_index=False)[['client_id']].count()\n",
    "df2_apr.rename(columns={'client_id': 'count_apr'}, inplace=True)\n",
    "\n",
    "list_age = ['18-24', '25-34', '35-44', '45-54', '55+']\n",
    "list_count_apr = []\n",
    "list_count_apr.append(df2_apr[(df2_apr.age >= 18)&(df2_apr.age <= 24)]['count_apr'].sum())\n",
    "list_count_apr.append(df2_apr[(df2_apr.age >= 25)&(df2_apr.age <= 34)]['count_apr'].sum())\n",
    "list_count_apr.append(df2_apr[(df2_apr.age >= 35)&(df2_apr.age <= 44)]['count_apr'].sum())\n",
    "list_count_apr.append(df2_apr[(df2_apr.age >= 45)&(df2_apr.age <= 54)]['count_apr'].sum())\n",
    "list_count_apr.append(df2_apr[(df2_apr.age >= 55)]['count_apr'].sum())\n",
    "data_apr = pd.DataFrame({'Возраст': list_age, 'Число клиентов': list_count_apr})\n",
    "data_apr\n",
    "\"\"\""
   ]
  },
  {
   "cell_type": "code",
   "execution_count": 13,
   "metadata": {},
   "outputs": [
    {
     "data": {
      "text/html": [
       "<div>\n",
       "<style scoped>\n",
       "    .dataframe tbody tr th:only-of-type {\n",
       "        vertical-align: middle;\n",
       "    }\n",
       "\n",
       "    .dataframe tbody tr th {\n",
       "        vertical-align: top;\n",
       "    }\n",
       "\n",
       "    .dataframe thead th {\n",
       "        text-align: right;\n",
       "    }\n",
       "</style>\n",
       "<table border=\"1\" class=\"dataframe\">\n",
       "  <thead>\n",
       "    <tr style=\"text-align: right;\">\n",
       "      <th></th>\n",
       "      <th>Возраст</th>\n",
       "      <th>Число клиентов янв</th>\n",
       "      <th>Число клиентов фев</th>\n",
       "      <th>Число клиентов мар</th>\n",
       "    </tr>\n",
       "  </thead>\n",
       "  <tbody>\n",
       "    <tr>\n",
       "      <th>0</th>\n",
       "      <td>18-24</td>\n",
       "      <td>206</td>\n",
       "      <td>572</td>\n",
       "      <td>877</td>\n",
       "    </tr>\n",
       "    <tr>\n",
       "      <th>1</th>\n",
       "      <td>25-34</td>\n",
       "      <td>214</td>\n",
       "      <td>446</td>\n",
       "      <td>643</td>\n",
       "    </tr>\n",
       "    <tr>\n",
       "      <th>2</th>\n",
       "      <td>35-44</td>\n",
       "      <td>106</td>\n",
       "      <td>227</td>\n",
       "      <td>302</td>\n",
       "    </tr>\n",
       "    <tr>\n",
       "      <th>3</th>\n",
       "      <td>45-54</td>\n",
       "      <td>50</td>\n",
       "      <td>126</td>\n",
       "      <td>160</td>\n",
       "    </tr>\n",
       "    <tr>\n",
       "      <th>4</th>\n",
       "      <td>55+</td>\n",
       "      <td>25</td>\n",
       "      <td>50</td>\n",
       "      <td>66</td>\n",
       "    </tr>\n",
       "  </tbody>\n",
       "</table>\n",
       "</div>"
      ],
      "text/plain": [
       "  Возраст  Число клиентов янв  Число клиентов фев  Число клиентов мар\n",
       "0   18-24                 206                 572                 877\n",
       "1   25-34                 214                 446                 643\n",
       "2   35-44                 106                 227                 302\n",
       "3   45-54                  50                 126                 160\n",
       "4     55+                  25                  50                  66"
      ]
     },
     "execution_count": 13,
     "metadata": {},
     "output_type": "execute_result"
    }
   ],
   "source": [
    "data"
   ]
  },
  {
   "cell_type": "code",
   "execution_count": 21,
   "metadata": {},
   "outputs": [
    {
     "data": {
      "text/plain": [
       "<matplotlib.legend.Legend at 0x8041bf0>"
      ]
     },
     "execution_count": 21,
     "metadata": {},
     "output_type": "execute_result"
    },
    {
     "data": {
      "image/png": "[encoded data removed]",
      "text/plain": [
       "<Figure size 1152x648 with 1 Axes>"
      ]
     },
     "metadata": {},
     "output_type": "display_data"
    }
   ],
   "source": [
    "plt.figure(figsize = (16,9))\n",
    "\n",
    "plt.bar(data['Возраст'] , data['Число клиентов мар'], color = 'lightskyblue', label = 'Март', width=0.4,\n",
    "        align='center')\n",
    "plt.bar(data['Возраст'] , data['Число клиентов фев'], color = 'deepskyblue', label = 'Февраль', width=0.4,\n",
    "        align='center')\n",
    "plt.bar(data['Возраст'] , data['Число клиентов янв'], color = 'steelblue', label = 'Январь', width=0.4,\n",
    "        align='center')\n",
    "\n",
    "plt.xlabel('Возрастная группа')\n",
    "plt.ylabel('Число клиентов')\n",
    "\n",
    "plt.legend()"
   ]
  },
  {
   "cell_type": "code",
   "execution_count": null,
   "metadata": {},
   "outputs": [],
   "source": []
  }
 ],
 "metadata": {
  "kernelspec": {
   "display_name": "Python 3",
   "language": "python",
   "name": "python3"
  },
  "language_info": {
   "codemirror_mode": {
    "name": "ipython",
    "version": 3
   },
   "file_extension": ".py",
   "mimetype": "text/x-python",
   "name": "python",
   "nbconvert_exporter": "python",
   "pygments_lexer": "ipython3",
   "version": "3.6.5"
  }
 },
 "nbformat": 4,
 "nbformat_minor": 2
}
